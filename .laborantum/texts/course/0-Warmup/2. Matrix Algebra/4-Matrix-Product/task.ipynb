{
    "cells": [
        {
            "cell_type": "code",
            "execution_count": 14,
            "id": "acceacb5",
            "metadata": {},
            "outputs": [],
            "source": [
                "import numpy as np\n",
                "import json_tricks\n",
                "\n",
                "answer = {}\n",
                "\n",
                "\n",
                "inputs = json_tricks.load('inputs/inputs.json')\n",
                "\n"
            ]
        },
        {
            "cell_type": "markdown",
            "id": "2a65a805",
            "metadata": {},
            "source": [
                "# Matrix Product II\n",
                "\n",
                "$$A_{5 \\times 10} \\  B_{10 \\times 2}\\ C_{2 \\times 30}\\ D_{30 \\times 3}\\ E_{3 \\times 9}$$\n",
                "\n",
                "1. What will be the shape of the resulting matrix?\n",
                "2. How many multiplication of numbers are required at best?"
            ]
        },
        {
            "cell_type": "code",
            "execution_count": 15,
            "id": "70ec671d",
            "metadata": {},
            "outputs": [],
            "source": [
                "dims = [5,10,2,30,3,9]\n",
                "\n",
                "def matrix_chain_order(dims):\n",
                "    n = len(dims) - 1\n",
                "    m = np.zeros((n,n), dtype=int)\n",
                "    for l in range(2, n+1):\n",
                "        for i in range(n-l+1):\n",
                "            j = i + l -1\n",
                "            m[i,j] = np.iinfo(np.int32).max\n",
                "            for k in range(i,j):\n",
                "                q = m[i,k] + m[k+1,j] + dims[i]*dims[k+1]*dims[j+1]\n",
                "                if q < m[i,j]:\n",
                "                    m[i,j] = q\n",
                "    return m[0,n-1]\n",
                "\n",
                "min_mult = matrix_chain_order(dims)\n",
                "\n",
                "answer['task1'] = {\n",
                "    '1': (dims[0], dims[-1]),  # (5, 9)\n",
                "    '2': int(min_mult)\n",
                "}\n",
                "\n",
                "\n"
            ]
        },
        {
            "cell_type": "markdown",
            "id": "a134c56f",
            "metadata": {},
            "source": [
                "# Numpy expression\n",
                "\n",
                "Using Numpy, write a function that calculates the \n",
                "following expression:\n",
                "\n",
                "$$\\exp(A^T(B + 2C) + 3I) \\mathbf x,$$\n",
                "\n",
                "where $I$ is an identity matrix of the necessary shape."
            ]
        },
        {
            "cell_type": "code",
            "execution_count": 16,
            "id": "71c02732",
            "metadata": {},
            "outputs": [],
            "source": [
                "def numpy_expression(A, B, C, x):\n",
                "    # Calculate: exp(A^T (B + 2C) + 3I) x\n",
                "    # I - identity matrix of necessary shape (square matrix same shape as A^T(B+2C))\n",
                "    I = np.eye(A.shape[1])  # since A^T shape: (columns of A, rows of A)\n",
                "    mat = A.T @ (B + 2*C) + 3 * I\n",
                "    res = np.exp(mat) @ x\n",
                "    return res"
            ]
        },
        {
            "cell_type": "code",
            "execution_count": 17,
            "id": "e93e082d",
            "metadata": {},
            "outputs": [],
            "source": [
                "answer['task2'] = []\n",
                "for one_input in inputs['task2']:\n",
                "    answer['task2'].append(numpy_expression(**one_input))"
            ]
        },
        {
            "cell_type": "markdown",
            "id": "2aef45b9",
            "metadata": {},
            "source": [
                "# Einstein's Rule\n",
                "\n",
                "In *Tensor Algebra*, a direct generalization of the Linear Algebra to the case of $N$-dimentional tables called *tensors* (normal matrix), the Einstein's rule exists.\n",
                "\n",
                "It works as follows: if you see a duplicating upper and lower index in the formula, that means, this index convolves.\n",
                "\n",
                "For example, the following tensor expression, summation and matrix product are equivalent:\n",
                "\n",
                "$$a_k^l b_l^m = \\sum_{l=1}^L a_k^l b_l^m = AB$$\n",
                "\n",
                "In this notation subscript means row index and superscript means column index.\n",
                "\n",
                "<details>\n",
                "<summary> Note </summary>\n",
                "\n",
                "> [!NOTE]\n",
                "> Also at some point it will be important to know that:\n",
                "> * lower index represents a contravariant dimension of a\n",
                "> tensor\n",
                "> * upper index represents a covariant dimension \n",
                "> of tensor. But let us omit this part for now.\n",
                "\n",
                "</details>\n",
                "\n",
                "# Task\n",
                "\n",
                "Calculate the following expression written using Einstein's \n",
                "rule:\n",
                "\n",
                "$$a_k^m b_m^n c_n^o d_l^k$$"
            ]
        },
        {
            "cell_type": "code",
            "execution_count": 18,
            "id": "3feb6914",
            "metadata": {},
            "outputs": [],
            "source": [
                "def einsteins_rule(A, B, C, D):\n",
                "    # Используем np.einsum для сокращения индексов\n",
                "    # a_k^m -> 'km', b_m^n -> 'mn', c_n^o -> 'no', d_l^k -> 'lk'\n",
                "    # Выражение: a_k^m b_m^n c_n^o d_l^k\n",
                "    # Итог: sum по m,n,k -> индексы l,o остаются\n",
                "    res = np.einsum('km,mn,no,lk->lo', A, B, C, D)\n",
                "    return res"
            ]
        },
        {
            "cell_type": "code",
            "execution_count": 19,
            "id": "f9cd1e7e",
            "metadata": {},
            "outputs": [],
            "source": [
                "answer['task3'] = []\n",
                "for one_input in inputs['task3']:\n",
                "    answer['task3'].append(einsteins_rule(**one_input))"
            ]
        },
        {
            "cell_type": "markdown",
            "id": "ad37cd42",
            "metadata": {},
            "source": [
                "# Diagonal Matrix Product\n",
                "\n",
                "You are given two square matrices: $A$ and $D$, where $A$ is a \n",
                "full matrix and $D$ is a diagonal matrix:\n",
                "\n",
                "$$\n",
                "A = \\begin{bmatrix}\n",
                "- & \\mathbf a_1 & - \\\\\n",
                "& \\vdots & \\\\\n",
                "- & \\mathbf a_N & - \\\\\n",
                "\\end{bmatrix}\n",
                "$$\n",
                "\n",
                "$$\n",
                "D = \\textrm{diag}(d_1, d_2, \\dots, d_N) = \\begin{bmatrix}\n",
                "d_1 & & & & \\\\\n",
                "& d_2 & & & \\\\\n",
                "& & d_3 & & \\\\\n",
                "& & & \\ddots & \\\\\n",
                "& & & & d_N \n",
                "\\end{bmatrix}\n",
                "$$\n",
                "\n",
                "Write a program to calculate the result of $DA$ and $AD$ in \n",
                "the fastest possible way."
            ]
        },
        {
            "cell_type": "code",
            "execution_count": null,
            "id": "af333a41",
            "metadata": {},
            "outputs": [
                {
                    "ename": "NameError",
                    "evalue": "name 'answer' is not defined",
                    "output_type": "error",
                    "traceback": [
                        "\u001b[31m---------------------------------------------------------------------------\u001b[39m",
                        "\u001b[31mNameError\u001b[39m                                 Traceback (most recent call last)",
                        "\u001b[36mCell\u001b[39m\u001b[36m \u001b[39m\u001b[32mIn[1]\u001b[39m\u001b[32m, line 36\u001b[39m\n\u001b[32m     33\u001b[39m     res = A * D[\u001b[38;5;28;01mNone\u001b[39;00m, :]\n\u001b[32m     34\u001b[39m     \u001b[38;5;28;01mreturn\u001b[39;00m res\n\u001b[32m---> \u001b[39m\u001b[32m36\u001b[39m \u001b[43manswer\u001b[49m[\u001b[33m'\u001b[39m\u001b[33mtask4_1\u001b[39m\u001b[33m'\u001b[39m] = []\n\u001b[32m     37\u001b[39m answer[\u001b[33m'\u001b[39m\u001b[33mtask4_2\u001b[39m\u001b[33m'\u001b[39m] = []\n",
                        "\u001b[31mNameError\u001b[39m: name 'answer' is not defined"
                    ]
                }
            ],
            "source": [
                "def diag_prod_DA(A, D):\n",
                "    # Handle both cases: D as 1D array or 2D diagonal matrix\n",
                "    if D.ndim == 1:\n",
                "        # D is 1D array representing diagonal elements\n",
                "        return D[:, None] * A\n",
                "    else:\n",
                "        # D is 2D diagonal matrix\n",
                "        return D @ A\n",
                "\n",
                "def diag_prod_AD(A, D):\n",
                "    # Handle both cases: D as 1D array or 2D diagonal matrix\n",
                "    if D.ndim == 1:\n",
                "        # D is 1D array representing diagonal elements\n",
                "        return A * D\n",
                "    else:\n",
                "        # D is 2D diagonal matrix\n",
                "        return A @ D\n",
                "\n",
                "answer['task4_1'] = []\n",
                "answer['task4_2'] = []"
            ]
        },
        {
            "cell_type": "code",
            "execution_count": null,
            "id": "68f65717",
            "metadata": {},
            "outputs": [],
            "source": [
                "for one_input in inputs['task4']:\n",
                "    answer['task4_1'].append(diag_prod_DA(**one_input))\n",
                "    answer['task4_2'].append(diag_prod_AD(**one_input))"
            ]
        },
        {
            "cell_type": "markdown",
            "id": "fc7b3dc4",
            "metadata": {},
            "source": [
                "# Sparse Matrix Product\n",
                "\n",
                "You are given two matrices of the same shape: $A$ and $B$. Matrix $A$ is full\n",
                "and is given in the form of `numpy.ndarray`.\n",
                "\n",
                "The second matrix $B$ is **sparse**. That means that the \n",
                "majority of the items are equal to $0$ except for $M$. This matrix is given\n",
                "as a set of non-zero elements of this matrix in form of $3 \\times M$ `numpy.ndarray` as row-column-value tuple (COO sparse matrix form):\n",
                "\n",
                "$$\n",
                "\\begin{bmatrix}\n",
                "r_1 & c_1 & v_1 \\\\\n",
                "r_2 & c_2 & v_2 \\\\\n",
                "& \\vdots & \\\\\n",
                "r_M & c_M & v_M \\\\\n",
                "\\end{bmatrix}\n",
                "$$\n",
                "\n",
                "If in this struct two items correspond to the same location, consider the latter is correct.\n",
                "\n",
                "Write the most efficient program that calculates $AB$.\n",
                "\n",
                "Also return the ratio between the number of multiplication operations that are needed to calculate the sparse product and the number of operations for full product."
            ]
        },
        {
            "cell_type": "code",
            "execution_count": null,
            "id": "6a439900",
            "metadata": {},
            "outputs": [],
            "source": [
                "def sparse_matrix_product(A, B_sparse):\n",
                "    rows = B_sparse[0]\n",
                "    cols = B_sparse[1]\n",
                "    vals = B_sparse[2]\n",
                "\n",
                "    m, n = A.shape\n",
                "    M = len(rows)\n",
                "\n",
                "    # Determine the number of columns in B\n",
                "    if len(cols) > 0 and len(cols) == len(rows) and len(rows) > 0:\n",
                "        n_cols_B = int(np.max(cols)) + 1\n",
                "    else:\n",
                "        n_cols_B = 0\n",
                "\n",
                "    res = np.zeros((m, n_cols_B))\n",
                "\n",
                "    # Process each non-zero element\n",
                "    # The problem statement says: \"If in this struct two items correspond to the same location, consider the latter is correct.\"\n",
                "    # This means we should process in order and overwrite duplicates\n",
                "    processed_positions = {}\n",
                "    for i in range(M):\n",
                "        r = int(rows[i])\n",
                "        c = int(cols[i])\n",
                "        v = vals[i]\n",
                "        key = (r, c)\n",
                "        processed_positions[key] = v  # This will overwrite previous values\n",
                "    \n",
                "    # Now compute the matrix multiplication\n",
                "    for (r, c), v in processed_positions.items():\n",
                "        if 0 <= r < n and 0 <= c < n_cols_B:  # bounds checking\n",
                "            res[:, c] += v * A[:, r]\n",
                "\n",
                "    # Calculate operation counts\n",
                "    full_mult = m * n * n_cols_B if n_cols_B > 0 else 0\n",
                "    sparse_mult = len(processed_positions) * m if len(processed_positions) > 0 else 0\n",
                "\n",
                "    ratio = sparse_mult / full_mult if full_mult > 0 else 0.0\n",
                "\n",
                "    return res, float(ratio)\n"
            ]
        },
        {
            "cell_type": "code",
            "execution_count": null,
            "id": "2db5922f",
            "metadata": {},
            "outputs": [],
            "source": [
                "answer['task5'] = []\n",
                "for one_input in inputs['task5']:\n",
                "    result = sparse_matrix_product(**one_input)\n",
                "    answer['task5'].append(result)"
            ]
        },
        {
            "cell_type": "code",
            "execution_count": 25,
            "id": "08e12548",
            "metadata": {},
            "outputs": [
                {
                    "data": {
                        "text/plain": [
                            "'{\"task1\": {\"1\": [5, 9], \"2\": 424}, \"task2\": [{\"__ndarray__\": [[129.28183698947615], [1.2706705664732254]], \"dtype\": \"float64\", \"shape\": [2, 1], \"Corder\": true}, {\"__ndarray__\": [[-19.814866356714443], [-22026.45231891272]], \"dtype\": \"float64\", \"shape\": [2, 1], \"Corder\": true}, {\"__ndarray__\": [[-1.0202138409972563], [-196988010.4959191]], \"dtype\": \"float64\", \"shape\": [2, 1], \"Corder\": true}, {\"__ndarray__\": [[148.4198970495757], [7.389391561558553]], \"dtype\": \"float64\", \"shape\": [2, 1], \"Corder\": true}, {\"__ndarray__\": [[970330390.7646337], [-65970.20108435386]], \"dtype\": \"float64\", \"shape\": [2, 1], \"Corder\": true}, {\"__ndarray__\": [[-445.23947730772977], [-3.0]], \"dtype\": \"float64\", \"shape\": [2, 1], \"Corder\": true}, {\"__ndarray__\": [[-23502.394195740686], [-0.005612492598890043]], \"dtype\": \"float64\", \"shape\": [2, 1], \"Corder\": true}, {\"__ndarray__\": [[-0.002478721716706869], [-2.9469672762675123e-07]], \"dtype\": \"float64\", \"shape\": [2, 1], \"Corder\": true}, {\"__ndarray__\": [[5.436551368493384], [5.436316837309917]], \"dtype\": \"float64\", \"shape\": [2, 1], \"Corder\": true}, {\"__ndarray__\": [[-4.509453221087034e-06], [-38.171073846375336]], \"dtype\": \"float64\", \"shape\": [2, 1], \"Corder\": true}], \"task3\": [{\"__ndarray__\": [[36, 6], [12, 26]], \"dtype\": \"int64\", \"shape\": [2, 2], \"Corder\": true}, {\"__ndarray__\": [[80, 20], [32, 8]], \"dtype\": \"int64\", \"shape\": [2, 2], \"Corder\": true}, {\"__ndarray__\": [[0, 9], [0, 2]], \"dtype\": \"int64\", \"shape\": [2, 2], \"Corder\": true}, {\"__ndarray__\": [[11, 8], [-10, -8]], \"dtype\": \"int64\", \"shape\": [2, 2], \"Corder\": true}, {\"__ndarray__\": [[-132, 24], [-96, 12]], \"dtype\": \"int64\", \"shape\": [2, 2], \"Corder\": true}, {\"__ndarray__\": [[0, 0], [-3, -6]], \"dtype\": \"int64\", \"shape\": [2, 2], \"Corder\": true}, {\"__ndarray__\": [[19, -33], [14, -30]], \"dtype\": \"int64\", \"shape\": [2, 2], \"Corder\": true}, {\"__ndarray__\": [[1, 3], [-9, 27]], \"dtype\": \"int64\", \"shape\": [2, 2], \"Corder\": true}, {\"__ndarray__\": [[48, 48], [-36, -36]], \"dtype\": \"int64\", \"shape\": [2, 2], \"Corder\": true}, {\"__ndarray__\": [[0, 0], [18, 0]], \"dtype\": \"int64\", \"shape\": [2, 2], \"Corder\": true}], \"task4_1\": [{\"__ndarray__\": [[[-2, 0], [0, 0]], [[0, -4], [0, 0]]], \"dtype\": \"int64\", \"shape\": [2, 2, 2], \"Corder\": true}, {\"__ndarray__\": [[[-4, 0], [0, 0]], [[0, 0], [0, 0]]], \"dtype\": \"int64\", \"shape\": [2, 2, 2], \"Corder\": true}, {\"__ndarray__\": [[[0, 0], [3, 0]], [[0, -2], [0, 1]]], \"dtype\": \"int64\", \"shape\": [2, 2, 2], \"Corder\": true}, {\"__ndarray__\": [[[0, 0], [0, 0]], [[0, 0], [0, 0]]], \"dtype\": \"int64\", \"shape\": [2, 2, 2], \"Corder\": true}, {\"__ndarray__\": [[[-2, 0], [0, 0]], [[0, 6], [0, -6]]], \"dtype\": \"int64\", \"shape\": [2, 2, 2], \"Corder\": true}, {\"__ndarray__\": [[[6, 0], [3, 0]], [[0, 9], [0, 0]]], \"dtype\": \"int64\", \"shape\": [2, 2, 2], \"Corder\": true}, {\"__ndarray__\": [[[6, 0], [3, 0]], [[0, 0], [0, 0]]], \"dtype\": \"int64\", \"shape\": [2, 2, 2], \"Corder\": true}, {\"__ndarray__\": [[[0, 0], [4, 0]], [[0, 0], [0, 1]]], \"dtype\": \"int64\", \"shape\": [2, 2, 2], \"Corder\": true}, {\"__ndarray__\": [[[6, 0], [3, 0]], [[0, -2], [0, -2]]], \"dtype\": \"int64\", \"shape\": [2, 2, 2], \"Corder\": true}, {\"__ndarray__\": [[[0, 0], [2, 0]], [[0, -2], [0, 0]]], \"dtype\": \"int64\", \"shape\": [2, 2, 2], \"Corder\": true}], \"task4_2\": [{\"__ndarray__\": [[[-2, 0], [0, 0]]], \"dtype\": \"int64\", \"shape\": [1, 2, 2], \"Corder\": true}, {\"__ndarray__\": [[[-4, 0], [0, 0]]], \"dtype\": \"int64\", \"shape\": [1, 2, 2], \"Corder\": true}, {\"__ndarray__\": [[[0, 0], [0, 1]]], \"dtype\": \"int64\", \"shape\": [1, 2, 2], \"Corder\": true}, {\"__ndarray__\": [[[0, 0], [0, 0]]], \"dtype\": \"int64\", \"shape\": [1, 2, 2], \"Corder\": true}, {\"__ndarray__\": [[[-2, 0], [0, -6]]], \"dtype\": \"int64\", \"shape\": [1, 2, 2], \"Corder\": true}, {\"__ndarray__\": [[[6, 0], [0, 0]]], \"dtype\": \"int64\", \"shape\": [1, 2, 2], \"Corder\": true}, {\"__ndarray__\": [[[6, 0], [0, 0]]], \"dtype\": \"int64\", \"shape\": [1, 2, 2], \"Corder\": true}, {\"__ndarray__\": [[[0, 0], [0, 1]]], \"dtype\": \"int64\", \"shape\": [1, 2, 2], \"Corder\": true}, {\"__ndarray__\": [[[6, 0], [0, -2]]], \"dtype\": \"int64\", \"shape\": [1, 2, 2], \"Corder\": true}, {\"__ndarray__\": [[[0, 0], [0, 0]]], \"dtype\": \"int64\", \"shape\": [1, 2, 2], \"Corder\": true}], \"task5\": [[{\"__ndarray__\": [[-10.0], [0.0]], \"dtype\": \"float64\", \"shape\": [2, 1], \"Corder\": true}, 2.0], [{\"__ndarray__\": [[0.0, 9.0], [0.0, -3.0]], \"dtype\": \"float64\", \"shape\": [2, 2], \"Corder\": true}, 0.5], [{\"__ndarray__\": [[4.0], [-6.0]], \"dtype\": \"float64\", \"shape\": [2, 1], \"Corder\": true}, 0.5], [{\"__ndarray__\": [[6.0, -1.0], [9.0, 0.0]], \"dtype\": \"float64\", \"shape\": [2, 2], \"Corder\": true}, 0.75], [{\"__ndarray__\": [[0.0, -2.0], [0.0, -4.0]], \"dtype\": \"float64\", \"shape\": [2, 2], \"Corder\": true}, 0.25], [{\"__ndarray__\": [[-6.0, -4.0], [3.0, 2.0]], \"dtype\": \"float64\", \"shape\": [2, 2], \"Corder\": true}, 0.75], [{\"__ndarray__\": [[0.0, 0.0], [0.0, -2.0]], \"dtype\": \"float64\", \"shape\": [2, 2], \"Corder\": true}, 0.25], [{\"__ndarray__\": [[3.0], [9.0]], \"dtype\": \"float64\", \"shape\": [2, 1], \"Corder\": true}, 0.5], [{\"__ndarray__\": [[-4.0], [0.0]], \"dtype\": \"float64\", \"shape\": [2, 1], \"Corder\": true}, 0.5], [{\"__ndarray__\": [[-1.0, 0.0], [0.0, 0.0]], \"dtype\": \"float64\", \"shape\": [2, 2], \"Corder\": true}, 0.5]]}'"
                        ]
                    },
                    "execution_count": 25,
                    "metadata": {},
                    "output_type": "execute_result"
                }
            ],
            "source": [
                "json_tricks.dump(answer, '.answer.json')"
            ]
        }
    ],
    "metadata": {
        "kernelspec": {
            "display_name": "Python 3",
            "language": "python",
            "name": "python3"
        },
        "language_info": {
            "codemirror_mode": {
                "name": "ipython",
                "version": 3
            },
            "file_extension": ".py",
            "mimetype": "text/x-python",
            "name": "python",
            "nbconvert_exporter": "python",
            "pygments_lexer": "ipython3",
            "version": "3.11.13"
        }
    },
    "nbformat": 4,
    "nbformat_minor": 5
}
